{
 "cells": [
  {
   "cell_type": "markdown",
   "metadata": {},
   "source": [
    "shows fractions of premises to claim in the corpora"
   ]
  },
  {
   "cell_type": "code",
   "execution_count": 1,
   "metadata": {},
   "outputs": [],
   "source": [
    "import json\n",
    "import pandas as pd"
   ]
  },
  {
   "cell_type": "code",
   "execution_count": 40,
   "metadata": {},
   "outputs": [],
   "source": [
    "def read_in_data(num):\n",
    "    corpus_list=[\"cmv-hidey\",\"usdeb\",\"essay_1\",\"micro_struc\"]\n",
    "\n",
    "    data = []\n",
    "\n",
    "    print(\"Choosen corpus is:\",corpus_list[num])\n",
    "\n",
    "\n",
    "    with open(\"Data/\"+corpus_list[num]+\".json\") as f:\n",
    "        for line in f:\n",
    "            data.append(json.loads(line))\n",
    "\n",
    "    df = pd.DataFrame(data)\n",
    "    \n",
    "    if num ==3:\n",
    "       \n",
    "        df=df.drop(\"discourse\",axis=1)\n",
    "    \n",
    "    return df"
   ]
  },
  {
   "cell_type": "code",
   "execution_count": 42,
   "metadata": {},
   "outputs": [
    {
     "name": "stdout",
     "output_type": "stream",
     "text": [
      "Choosen corpus is: essay_1\n"
     ]
    }
   ],
   "source": [
    "df=read_in_data(2)"
   ]
  },
  {
   "cell_type": "code",
   "execution_count": 36,
   "metadata": {},
   "outputs": [
    {
     "data": {
      "text/html": [
       "<div>\n",
       "<style scoped>\n",
       "    .dataframe tbody tr th:only-of-type {\n",
       "        vertical-align: middle;\n",
       "    }\n",
       "\n",
       "    .dataframe tbody tr th {\n",
       "        vertical-align: top;\n",
       "    }\n",
       "\n",
       "    .dataframe thead th {\n",
       "        text-align: right;\n",
       "    }\n",
       "</style>\n",
       "<table border=\"1\" class=\"dataframe\">\n",
       "  <thead>\n",
       "    <tr style=\"text-align: right;\">\n",
       "      <th></th>\n",
       "      <th>docID</th>\n",
       "      <th>meta</th>\n",
       "      <th>text</th>\n",
       "      <th>sentences</th>\n",
       "      <th>argumentation</th>\n",
       "    </tr>\n",
       "  </thead>\n",
       "  <tbody>\n",
       "    <tr>\n",
       "      <th>0</th>\n",
       "      <td>micro_00000</td>\n",
       "      <td>{'title': 'TXL_airport_remain_operational_afte...</td>\n",
       "      <td>As a central airport Berlin Tegel is particula...</td>\n",
       "      <td>[{'tokens': [{'id': 0, 'gid': 0, 'sid': 0, 'su...</td>\n",
       "      <td>{'units': [{'tokens': [0, 1, 2, 3, 4, 5, 6, 7,...</td>\n",
       "    </tr>\n",
       "    <tr>\n",
       "      <th>1</th>\n",
       "      <td>micro_00001</td>\n",
       "      <td>{'title': 'school_uniforms', 'corpus': 'micro'...</td>\n",
       "      <td>School uniforms should not be worn in our scho...</td>\n",
       "      <td>[{'tokens': [{'id': 0, 'gid': 0, 'sid': 0, 'su...</td>\n",
       "      <td>{'units': [{'tokens': [0, 1, 2, 3, 4, 5, 6, 7,...</td>\n",
       "    </tr>\n",
       "    <tr>\n",
       "      <th>2</th>\n",
       "      <td>micro_00002</td>\n",
       "      <td>{'title': 'health_insurance_cover_complementar...</td>\n",
       "      <td>Health insurance companies should naturally co...</td>\n",
       "      <td>[{'tokens': [{'id': 0, 'gid': 0, 'sid': 0, 'su...</td>\n",
       "      <td>{'units': [{'tokens': [0, 1, 2, 3, 4, 5, 6, 7,...</td>\n",
       "    </tr>\n",
       "    <tr>\n",
       "      <th>3</th>\n",
       "      <td>micro_00003</td>\n",
       "      <td>{'title': 'keep_retirement_at_63', 'corpus': '...</td>\n",
       "      <td>The implementation of retirement at 63 is no l...</td>\n",
       "      <td>[{'tokens': [{'id': 0, 'gid': 0, 'sid': 0, 'su...</td>\n",
       "      <td>{'units': [{'tokens': [0, 1, 2, 3, 4, 5, 6, 7,...</td>\n",
       "    </tr>\n",
       "    <tr>\n",
       "      <th>4</th>\n",
       "      <td>micro_00004</td>\n",
       "      <td>{'title': 'health_insurance_cover_complementar...</td>\n",
       "      <td>The statutory health insurance companies shoul...</td>\n",
       "      <td>[{'tokens': [{'id': 0, 'gid': 0, 'sid': 0, 'su...</td>\n",
       "      <td>{'units': [{'tokens': [0, 1, 2, 3, 4, 5, 6, 7,...</td>\n",
       "    </tr>\n",
       "  </tbody>\n",
       "</table>\n",
       "</div>"
      ],
      "text/plain": [
       "         docID                                               meta  \\\n",
       "0  micro_00000  {'title': 'TXL_airport_remain_operational_afte...   \n",
       "1  micro_00001  {'title': 'school_uniforms', 'corpus': 'micro'...   \n",
       "2  micro_00002  {'title': 'health_insurance_cover_complementar...   \n",
       "3  micro_00003  {'title': 'keep_retirement_at_63', 'corpus': '...   \n",
       "4  micro_00004  {'title': 'health_insurance_cover_complementar...   \n",
       "\n",
       "                                                text  \\\n",
       "0  As a central airport Berlin Tegel is particula...   \n",
       "1  School uniforms should not be worn in our scho...   \n",
       "2  Health insurance companies should naturally co...   \n",
       "3  The implementation of retirement at 63 is no l...   \n",
       "4  The statutory health insurance companies shoul...   \n",
       "\n",
       "                                           sentences  \\\n",
       "0  [{'tokens': [{'id': 0, 'gid': 0, 'sid': 0, 'su...   \n",
       "1  [{'tokens': [{'id': 0, 'gid': 0, 'sid': 0, 'su...   \n",
       "2  [{'tokens': [{'id': 0, 'gid': 0, 'sid': 0, 'su...   \n",
       "3  [{'tokens': [{'id': 0, 'gid': 0, 'sid': 0, 'su...   \n",
       "4  [{'tokens': [{'id': 0, 'gid': 0, 'sid': 0, 'su...   \n",
       "\n",
       "                                       argumentation  \n",
       "0  {'units': [{'tokens': [0, 1, 2, 3, 4, 5, 6, 7,...  \n",
       "1  {'units': [{'tokens': [0, 1, 2, 3, 4, 5, 6, 7,...  \n",
       "2  {'units': [{'tokens': [0, 1, 2, 3, 4, 5, 6, 7,...  \n",
       "3  {'units': [{'tokens': [0, 1, 2, 3, 4, 5, 6, 7,...  \n",
       "4  {'units': [{'tokens': [0, 1, 2, 3, 4, 5, 6, 7,...  "
      ]
     },
     "execution_count": 36,
     "metadata": {},
     "output_type": "execute_result"
    }
   ],
   "source": [
    "df.head()"
   ]
  },
  {
   "cell_type": "code",
   "execution_count": 43,
   "metadata": {
    "scrolled": true
   },
   "outputs": [
    {
     "name": "stdout",
     "output_type": "stream",
     "text": [
      "Claim 1506\n",
      "Premises 3832\n",
      "Major Claim 751\n",
      "Percent of arguments being claims 24.733\n",
      "Percent of arguments being premises 62.933\n",
      "Percent of arguments being major claims 12.334\n"
     ]
    }
   ],
   "source": [
    "prem=0\n",
    "claim=0\n",
    "mjclaim=0\n",
    "\n",
    "for i in range(len(df)):\n",
    "    \n",
    "    unit_list=df.iloc[i,4][\"units\"]\n",
    "    \n",
    "    \n",
    "    \n",
    "    for j in range(len(unit_list)):\n",
    "        role=unit_list[j][\"attributes\"][\"role\"]\n",
    "\n",
    "        if role==\"Premise\":\n",
    "            prem +=1\n",
    "        elif role==\"Claim\":\n",
    "            claim +=1\n",
    "        elif role==\"MajorClaim\":\n",
    "            mjclaim +=1\n",
    "        else:\n",
    "            raise ValueError(str(role) + ' is not a known value')\n",
    "\n",
    "print(\"Claim\",claim)\n",
    "print(\"Premises\",prem)\n",
    "print(\"Major Claim\",mjclaim)\n",
    "\n",
    "all=claim+prem+mjclaim\n",
    "\n",
    "print(\"Percent of arguments being claims\",round(((claim*100)/all),3))\n",
    "print(\"Percent of arguments being premises\",round(((prem*100)/all),3))\n",
    "print(\"Percent of arguments being major claims\",round(((mjclaim*100)/all),3))"
   ]
  }
 ],
 "metadata": {
  "kernelspec": {
   "display_name": "Python 3.9.0 64-bit",
   "language": "python",
   "name": "python3"
  },
  "language_info": {
   "codemirror_mode": {
    "name": "ipython",
    "version": 3
   },
   "file_extension": ".py",
   "mimetype": "text/x-python",
   "name": "python",
   "nbconvert_exporter": "python",
   "pygments_lexer": "ipython3",
   "version": "3.9.0"
  },
  "vscode": {
   "interpreter": {
    "hash": "ced4df1178df94143ce9ce9995caaabc3f6a448f2dac189137db2cef6e4e7c3d"
   }
  }
 },
 "nbformat": 4,
 "nbformat_minor": 4
}
