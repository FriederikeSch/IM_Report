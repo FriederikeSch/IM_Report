{
 "cells": [
  {
   "cell_type": "markdown",
   "metadata": {},
   "source": [
    "Shows the average length of the corpora"
   ]
  },
  {
   "cell_type": "code",
   "execution_count": 74,
   "metadata": {},
   "outputs": [],
   "source": [
    "import json\n",
    "import pandas as pd\n",
    "import numpy as np\n",
    "import matplotlib.pyplot as plt"
   ]
  },
  {
   "cell_type": "code",
   "execution_count": 75,
   "metadata": {},
   "outputs": [],
   "source": [
    "def read_in_data(num):\n",
    "    corpus_list=[\"cmv-hidey\",\"usdeb\",\"essay_1\",\"micro_struc\"]\n",
    "\n",
    "    data = []\n",
    "\n",
    "    print(\"Choosen corpus is:\",corpus_list[num])\n",
    "\n",
    "\n",
    "    with open(\"Data/\"+corpus_list[num]+\".json\") as f:\n",
    "        for line in f:\n",
    "            data.append(json.loads(line))\n",
    "\n",
    "    df = pd.DataFrame(data)\n",
    "    \n",
    "    if num ==3:\n",
    "       \n",
    "        df=df.drop(\"discourse\",axis=1)\n",
    "    \n",
    "    return df"
   ]
  },
  {
   "cell_type": "code",
   "execution_count": 76,
   "metadata": {},
   "outputs": [
    {
     "name": "stdout",
     "output_type": "stream",
     "text": [
      "Choosen corpus is: micro_struc\n"
     ]
    }
   ],
   "source": [
    "df=read_in_data(3)"
   ]
  },
  {
   "cell_type": "code",
   "execution_count": 77,
   "metadata": {},
   "outputs": [],
   "source": [
    "#sort lists ascending and give back a list of indexes\n",
    "def sort_index(lst, rev=True):\n",
    "    index = range(len(lst))\n",
    "    s = sorted(index, reverse=rev, key=lambda i: lst[i])\n",
    "    return s"
   ]
  },
  {
   "cell_type": "code",
   "execution_count": 78,
   "metadata": {},
   "outputs": [],
   "source": [
    "#get the length of sentences and the role of the longest sentences\n",
    "#In: a corpus as a dataframe\n",
    "\n",
    "\n",
    "def get_sentence_length(data):\n",
    "    \n",
    "    \n",
    "    #list containing the average length of senteces per text\n",
    "    av_text=[]\n",
    "\n",
    "    #list containing lists with the length of each sentence in each text\n",
    "    sent_per_text=[]\n",
    "\n",
    "    \n",
    "    \n",
    "    all_sent=[]\n",
    "    sent_count_list=[]\n",
    "    for i in range(len(df)):\n",
    "\n",
    "        sentences=[]\n",
    "        sent_count=0\n",
    "        #loop over all texts\n",
    "        for j in df.iloc[i,4][\"units\"]:\n",
    "\n",
    "            tokens=j[\"tokens\"]\n",
    "\n",
    "            sentences.append(len(tokens))\n",
    "            sent_count +=1\n",
    "            all_sent.append(len(tokens))\n",
    "\n",
    "        sent_per_text.append(sentences)\n",
    "        \n",
    "        av_text.append(sum(sentences)/len(sentences))\n",
    "\n",
    "        sent_count_list.append(sent_count)\n",
    "\n",
    "    #print(\"Average length of sentences of each text:\",av_text)\n",
    "    av_all=sum(av_text)/len(av_text)\n",
    "\n",
    "    print(\"Average length of sentences over whole corpus:\", sum(all_sent)/len(all_sent))\n",
    "\n",
    "    print(\"Average length of each text:\", av_all)\n",
    "\n",
    "    print(\"Average number of sentence in one text\",sum(sent_count_list)/len(sent_count_list))\n",
    "    \n",
    "    prem=0\n",
    "    claim=0\n",
    "    mjclaim=0\n",
    "    \n",
    "\n",
    "    for i in range(len(df)):\n",
    "\n",
    "        index_list=sort_index(sent_per_text[i]) \n",
    "\n",
    "        unit_list=df.iloc[i,4][\"units\"]\n",
    "\n",
    "        #get the indices of the 3 longest sentences\n",
    "        for j in index_list[0:3]:\n",
    "\n",
    "            #check their role\n",
    "            role=unit_list[j][\"attributes\"][\"role\"]\n",
    "\n",
    "            if role==\"Premise\":\n",
    "                prem +=1\n",
    "            elif role==\"Claim\":\n",
    "                claim +=1\n",
    "            elif role==\"MajorClaim\":\n",
    "                mjclaim +=1\n",
    "            else:\n",
    "                raise ValueError(str(role) + ' is not a known value')\n",
    "\n",
    "    \n",
    "    print(\"Found\",prem, \"premises\")   \n",
    "    print(\"Found\",claim, \"claims\")  \n",
    "    print(\"Found\",mjclaim,\"major claims\")\n",
    "    \n",
    "    all_sent.sort()\n",
    "    f = plt.figure(1)\n",
    "    plt.hist(all_sent, density=False,bins=40)\n",
    "    plt.xlabel(\"Length of all sentences of all texts\")\n",
    "    \n",
    "    \n",
    "    av_text.sort()\n",
    "    g=plt.figure(2)\n",
    "    plt.hist(av_text, density=False, bins=30)\n",
    "    plt.xlabel(\"Average length sentences \")\n",
    "   \n"
   ]
  },
  {
   "cell_type": "code",
   "execution_count": 79,
   "metadata": {},
   "outputs": [
    {
     "name": "stdout",
     "output_type": "stream",
     "text": [
      "Average length of sentences over whole corpus: 15.354166666666666\n",
      "Average length of each text: 15.397852891156464\n",
      "Average number of sentence in one text 5.142857142857143\n",
      "Found 273 premises\n",
      "Found 63 claims\n",
      "Found 0 major claims\n"
     ]
    },
    {
     "data": {
      "image/png": "[encoded data removed]",
      "text/plain": [
       "<Figure size 432x288 with 1 Axes>"
      ]
     },
     "metadata": {
      "needs_background": "light"
     },
     "output_type": "display_data"
    },
    {
     "data": {
      "image/png": "[encoded data removed]",
      "text/plain": [
       "<Figure size 432x288 with 1 Axes>"
      ]
     },
     "metadata": {
      "needs_background": "light"
     },
     "output_type": "display_data"
    }
   ],
   "source": [
    "get_sentence_length(df)"
   ]
  },
  {
   "cell_type": "code",
   "execution_count": 80,
   "metadata": {},
   "outputs": [
    {
     "data": {
      "text/html": [
       "<div>\n",
       "<style scoped>\n",
       "    .dataframe tbody tr th:only-of-type {\n",
       "        vertical-align: middle;\n",
       "    }\n",
       "\n",
       "    .dataframe tbody tr th {\n",
       "        vertical-align: top;\n",
       "    }\n",
       "\n",
       "    .dataframe thead th {\n",
       "        text-align: right;\n",
       "    }\n",
       "</style>\n",
       "<table border=\"1\" class=\"dataframe\">\n",
       "  <thead>\n",
       "    <tr style=\"text-align: right;\">\n",
       "      <th></th>\n",
       "      <th>docID</th>\n",
       "      <th>meta</th>\n",
       "      <th>text</th>\n",
       "      <th>sentences</th>\n",
       "      <th>argumentation</th>\n",
       "    </tr>\n",
       "  </thead>\n",
       "  <tbody>\n",
       "    <tr>\n",
       "      <th>0</th>\n",
       "      <td>micro_00000</td>\n",
       "      <td>{'title': 'TXL_airport_remain_operational_afte...</td>\n",
       "      <td>As a central airport Berlin Tegel is particula...</td>\n",
       "      <td>[{'tokens': [{'id': 0, 'gid': 0, 'sid': 0, 'su...</td>\n",
       "      <td>{'units': [{'tokens': [0, 1, 2, 3, 4, 5, 6, 7,...</td>\n",
       "    </tr>\n",
       "    <tr>\n",
       "      <th>1</th>\n",
       "      <td>micro_00001</td>\n",
       "      <td>{'title': 'school_uniforms', 'corpus': 'micro'...</td>\n",
       "      <td>School uniforms should not be worn in our scho...</td>\n",
       "      <td>[{'tokens': [{'id': 0, 'gid': 0, 'sid': 0, 'su...</td>\n",
       "      <td>{'units': [{'tokens': [0, 1, 2, 3, 4, 5, 6, 7,...</td>\n",
       "    </tr>\n",
       "    <tr>\n",
       "      <th>2</th>\n",
       "      <td>micro_00002</td>\n",
       "      <td>{'title': 'health_insurance_cover_complementar...</td>\n",
       "      <td>Health insurance companies should naturally co...</td>\n",
       "      <td>[{'tokens': [{'id': 0, 'gid': 0, 'sid': 0, 'su...</td>\n",
       "      <td>{'units': [{'tokens': [0, 1, 2, 3, 4, 5, 6, 7,...</td>\n",
       "    </tr>\n",
       "    <tr>\n",
       "      <th>3</th>\n",
       "      <td>micro_00003</td>\n",
       "      <td>{'title': 'keep_retirement_at_63', 'corpus': '...</td>\n",
       "      <td>The implementation of retirement at 63 is no l...</td>\n",
       "      <td>[{'tokens': [{'id': 0, 'gid': 0, 'sid': 0, 'su...</td>\n",
       "      <td>{'units': [{'tokens': [0, 1, 2, 3, 4, 5, 6, 7,...</td>\n",
       "    </tr>\n",
       "    <tr>\n",
       "      <th>4</th>\n",
       "      <td>micro_00004</td>\n",
       "      <td>{'title': 'health_insurance_cover_complementar...</td>\n",
       "      <td>The statutory health insurance companies shoul...</td>\n",
       "      <td>[{'tokens': [{'id': 0, 'gid': 0, 'sid': 0, 'su...</td>\n",
       "      <td>{'units': [{'tokens': [0, 1, 2, 3, 4, 5, 6, 7,...</td>\n",
       "    </tr>\n",
       "  </tbody>\n",
       "</table>\n",
       "</div>"
      ],
      "text/plain": [
       "         docID                                               meta  \\\n",
       "0  micro_00000  {'title': 'TXL_airport_remain_operational_afte...   \n",
       "1  micro_00001  {'title': 'school_uniforms', 'corpus': 'micro'...   \n",
       "2  micro_00002  {'title': 'health_insurance_cover_complementar...   \n",
       "3  micro_00003  {'title': 'keep_retirement_at_63', 'corpus': '...   \n",
       "4  micro_00004  {'title': 'health_insurance_cover_complementar...   \n",
       "\n",
       "                                                text  \\\n",
       "0  As a central airport Berlin Tegel is particula...   \n",
       "1  School uniforms should not be worn in our scho...   \n",
       "2  Health insurance companies should naturally co...   \n",
       "3  The implementation of retirement at 63 is no l...   \n",
       "4  The statutory health insurance companies shoul...   \n",
       "\n",
       "                                           sentences  \\\n",
       "0  [{'tokens': [{'id': 0, 'gid': 0, 'sid': 0, 'su...   \n",
       "1  [{'tokens': [{'id': 0, 'gid': 0, 'sid': 0, 'su...   \n",
       "2  [{'tokens': [{'id': 0, 'gid': 0, 'sid': 0, 'su...   \n",
       "3  [{'tokens': [{'id': 0, 'gid': 0, 'sid': 0, 'su...   \n",
       "4  [{'tokens': [{'id': 0, 'gid': 0, 'sid': 0, 'su...   \n",
       "\n",
       "                                       argumentation  \n",
       "0  {'units': [{'tokens': [0, 1, 2, 3, 4, 5, 6, 7,...  \n",
       "1  {'units': [{'tokens': [0, 1, 2, 3, 4, 5, 6, 7,...  \n",
       "2  {'units': [{'tokens': [0, 1, 2, 3, 4, 5, 6, 7,...  \n",
       "3  {'units': [{'tokens': [0, 1, 2, 3, 4, 5, 6, 7,...  \n",
       "4  {'units': [{'tokens': [0, 1, 2, 3, 4, 5, 6, 7,...  "
      ]
     },
     "execution_count": 80,
     "metadata": {},
     "output_type": "execute_result"
    }
   ],
   "source": [
    "df.head()"
   ]
  },
  {
   "cell_type": "code",
   "execution_count": null,
   "metadata": {},
   "outputs": [],
   "source": []
  }
 ],
 "metadata": {
  "kernelspec": {
   "display_name": "Python 3.8.3",
   "language": "python",
   "name": "python3"
  },
  "language_info": {
   "codemirror_mode": {
    "name": "ipython",
    "version": 3
   },
   "file_extension": ".py",
   "mimetype": "text/x-python",
   "name": "python",
   "nbconvert_exporter": "python",
   "pygments_lexer": "ipython3",
   "version": "3.8.3"
  },
  "vscode": {
   "interpreter": {
    "hash": "0acc6f63e5576177c66e256d998b6d3964615254c3e54055c5c863c51bc5dfdf"
   }
  }
 },
 "nbformat": 4,
 "nbformat_minor": 4
}
