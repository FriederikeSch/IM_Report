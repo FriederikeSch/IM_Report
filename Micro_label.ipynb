{
 "cells": [
  {
   "cell_type": "markdown",
   "metadata": {},
   "source": [
    "Matches claim types for the micro corpus (no gold labels to check validity)"
   ]
  },
  {
   "cell_type": "code",
   "execution_count": 2,
   "metadata": {},
   "outputs": [],
   "source": [
    "\n",
    "import json\n",
    "import pandas as pd\n",
    "import torch\n",
    "from transformers import BertTokenizer\n",
    "from transformers import BertForSequenceClassification\n",
    "from transformers import TextClassificationPipeline\n",
    "from torch.utils.data import DataLoader, RandomSampler, SequentialSampler\n",
    "\n"
   ]
  },
  {
   "cell_type": "code",
   "execution_count": 3,
   "metadata": {},
   "outputs": [],
   "source": [
    "def read_in_data(num):\n",
    "    corpus_list=[\"cmv-hidey\",\"usdeb\",\"essay_1\",\"micro_struc\"]\n",
    "\n",
    "    data = []\n",
    "\n",
    "    print(\"Choosen corpus is:\",corpus_list[num])\n",
    "\n",
    "\n",
    "    with open(\"Data/\"+corpus_list[num]+\".json\") as f:\n",
    "        for line in f:\n",
    "            data.append(json.loads(line))\n",
    "\n",
    "    df = pd.DataFrame(data)\n",
    "    \n",
    "    if num ==3:\n",
    "       \n",
    "        df=df.drop(\"discourse\",axis=1)\n",
    "    \n",
    "    return df"
   ]
  },
  {
   "cell_type": "code",
   "execution_count": 4,
   "metadata": {},
   "outputs": [
    {
     "name": "stdout",
     "output_type": "stream",
     "text": [
      "Choosen corpus is: micro_struc\n"
     ]
    }
   ],
   "source": [
    "df=read_in_data(3)"
   ]
  },
  {
   "cell_type": "code",
   "execution_count": 18,
   "metadata": {},
   "outputs": [
    {
     "data": {
      "text/html": [
       "<div>\n",
       "<style scoped>\n",
       "    .dataframe tbody tr th:only-of-type {\n",
       "        vertical-align: middle;\n",
       "    }\n",
       "\n",
       "    .dataframe tbody tr th {\n",
       "        vertical-align: top;\n",
       "    }\n",
       "\n",
       "    .dataframe thead th {\n",
       "        text-align: right;\n",
       "    }\n",
       "</style>\n",
       "<table border=\"1\" class=\"dataframe\">\n",
       "  <thead>\n",
       "    <tr style=\"text-align: right;\">\n",
       "      <th></th>\n",
       "      <th>text</th>\n",
       "    </tr>\n",
       "  </thead>\n",
       "  <tbody>\n",
       "    <tr>\n",
       "      <th>Claim</th>\n",
       "      <td>As a central airport Berlin Tegel is particula...</td>\n",
       "    </tr>\n",
       "    <tr>\n",
       "      <th>Premise</th>\n",
       "      <td>It is an asset for the economy .</td>\n",
       "    </tr>\n",
       "    <tr>\n",
       "      <th>Premise</th>\n",
       "      <td>The negative impact of air traffic however is ...</td>\n",
       "    </tr>\n",
       "    <tr>\n",
       "      <th>Premise</th>\n",
       "      <td>Air traffic is extremely environmentally unfri...</td>\n",
       "    </tr>\n",
       "    <tr>\n",
       "      <th>Premise</th>\n",
       "      <td>Particularly in Tegel , the residents have bee...</td>\n",
       "    </tr>\n",
       "    <tr>\n",
       "      <th>...</th>\n",
       "      <td>...</td>\n",
       "    </tr>\n",
       "    <tr>\n",
       "      <th>Claim</th>\n",
       "      <td>Rent prices should be limited by a cap when th...</td>\n",
       "    </tr>\n",
       "    <tr>\n",
       "      <th>Premise</th>\n",
       "      <td>Landlords may want to earn as much as possible ,</td>\n",
       "    </tr>\n",
       "    <tr>\n",
       "      <th>Premise</th>\n",
       "      <td>and many , consistent with market principles ,...</td>\n",
       "    </tr>\n",
       "    <tr>\n",
       "      <th>Premise</th>\n",
       "      <td>but that people with the same income suddenly ...</td>\n",
       "    </tr>\n",
       "    <tr>\n",
       "      <th>Premise</th>\n",
       "      <td>Gentrification destroys entire districts and t...</td>\n",
       "    </tr>\n",
       "  </tbody>\n",
       "</table>\n",
       "<p>576 rows × 1 columns</p>\n",
       "</div>"
      ],
      "text/plain": [
       "                                                      text\n",
       "Claim    As a central airport Berlin Tegel is particula...\n",
       "Premise                   It is an asset for the economy .\n",
       "Premise  The negative impact of air traffic however is ...\n",
       "Premise  Air traffic is extremely environmentally unfri...\n",
       "Premise  Particularly in Tegel , the residents have bee...\n",
       "...                                                    ...\n",
       "Claim    Rent prices should be limited by a cap when th...\n",
       "Premise   Landlords may want to earn as much as possible ,\n",
       "Premise  and many , consistent with market principles ,...\n",
       "Premise  but that people with the same income suddenly ...\n",
       "Premise  Gentrification destroys entire districts and t...\n",
       "\n",
       "[576 rows x 1 columns]"
      ]
     },
     "execution_count": 18,
     "metadata": {},
     "output_type": "execute_result"
    }
   ],
   "source": [
    "\n",
    "frame_list=[]\n",
    "for ex in range(len(df)):\n",
    "    role_list=[]\n",
    "    unit_ids=[]\n",
    "    #get a list of the role and the start and end of the text belonging to them\n",
    "    for i in df.iloc[ex,4][\"units\"]:\n",
    "        role_list.append(i[\"attributes\"].get(\"role\"))\n",
    "        unit_ids.append(i[\"tokens\"])  \n",
    "\n",
    "    #make a list of the text\n",
    "    text=[]\n",
    "\n",
    "    for part_list in df.iloc[ex,3]:\n",
    "        tokens=part_list[\"tokens\"]\n",
    "        for word in tokens:\n",
    "            text.append(word[\"surface\"])\n",
    "\n",
    "    #match the text to the unit ids\n",
    "    t=[]\n",
    "\n",
    "    for i in unit_ids:\n",
    "        \n",
    "        text_list=[]\n",
    "        \n",
    "        for j in i:\n",
    "            text_list.append(text[j])\n",
    "            \n",
    "        t.append( \" \".join(text_list))\n",
    "\n",
    "    #combine into one frame\n",
    "    pd.Series(t)\n",
    "    pd.Series(role_list)\n",
    "\n",
    "    mic_frame=pd.DataFrame(t,role_list)\n",
    "    mic_frame=mic_frame.rename(columns={0: \"text\"})\n",
    "\n",
    "\n",
    "    frame_list.append(mic_frame)\n",
    "\n",
    "big_frame=pd.concat(frame_list)\n",
    "big_frame\n"
   ]
  },
  {
   "cell_type": "code",
   "execution_count": 61,
   "metadata": {},
   "outputs": [
    {
     "name": "stderr",
     "output_type": "stream",
     "text": [
      "Some weights of the model checkpoint at bert-base-uncased were not used when initializing BertForSequenceClassification: ['cls.seq_relationship.weight', 'cls.predictions.transform.dense.bias', 'cls.predictions.transform.LayerNorm.bias', 'cls.predictions.transform.dense.weight', 'cls.predictions.decoder.weight', 'cls.seq_relationship.bias', 'cls.predictions.transform.LayerNorm.weight', 'cls.predictions.bias']\n",
      "- This IS expected if you are initializing BertForSequenceClassification from the checkpoint of a model trained on another task or with another architecture (e.g. initializing a BertForSequenceClassification model from a BertForPreTraining model).\n",
      "- This IS NOT expected if you are initializing BertForSequenceClassification from the checkpoint of a model that you expect to be exactly identical (initializing a BertForSequenceClassification model from a BertForSequenceClassification model).\n",
      "Some weights of BertForSequenceClassification were not initialized from the model checkpoint at bert-base-uncased and are newly initialized: ['classifier.bias', 'classifier.weight']\n",
      "You should probably TRAIN this model on a down-stream task to be able to use it for predictions and inference.\n"
     ]
    }
   ],
   "source": [
    "#load model and tokenizer\n",
    "\n",
    "tokenizer = BertTokenizer.from_pretrained('bert-base-uncased', \n",
    "                                          do_lower_case=True)\n",
    "                                          \n",
    "model = BertForSequenceClassification.from_pretrained(\"bert-base-uncased\",\n",
    "                                                      num_labels=3,\n",
    "                                                      #num_labels=len(label_dict),\n",
    "                                                      output_attentions=False,\n",
    "                                                      output_hidden_states=False)\n",
    "\n",
    "model.load_state_dict(torch.load('BERT Models/finetuned_BERT_epoch_3_small_set.model', map_location=torch.device('cpu')))\n",
    "\n"
   ]
  },
  {
   "cell_type": "code",
   "execution_count": 8,
   "metadata": {},
   "outputs": [
    {
     "ename": "NameError",
     "evalue": "name 'model' is not defined",
     "output_type": "error",
     "traceback": [
      "\u001b[1;31m---------------------------------------------------------------------------\u001b[0m",
      "\u001b[1;31mNameError\u001b[0m                                 Traceback (most recent call last)",
      "\u001b[1;32m<ipython-input-8-8fcee13b6986>\u001b[0m in \u001b[0;36m<module>\u001b[1;34m\u001b[0m\n\u001b[0;32m      3\u001b[0m \u001b[0mtext_list\u001b[0m \u001b[1;33m=\u001b[0m \u001b[0mbig_frame\u001b[0m\u001b[1;33m[\u001b[0m\u001b[1;34m'text'\u001b[0m\u001b[1;33m]\u001b[0m\u001b[1;33m.\u001b[0m\u001b[0mtolist\u001b[0m\u001b[1;33m(\u001b[0m\u001b[1;33m)\u001b[0m\u001b[1;33m\u001b[0m\u001b[1;33m\u001b[0m\u001b[0m\n\u001b[0;32m      4\u001b[0m \u001b[1;33m\u001b[0m\u001b[0m\n\u001b[1;32m----> 5\u001b[1;33m \u001b[0mpipe\u001b[0m \u001b[1;33m=\u001b[0m \u001b[0mTextClassificationPipeline\u001b[0m\u001b[1;33m(\u001b[0m\u001b[0mmodel\u001b[0m\u001b[1;33m=\u001b[0m\u001b[0mmodel\u001b[0m\u001b[1;33m,\u001b[0m \u001b[0mtokenizer\u001b[0m\u001b[1;33m=\u001b[0m\u001b[0mtokenizer\u001b[0m\u001b[1;33m,\u001b[0m \u001b[0mtop_k\u001b[0m\u001b[1;33m=\u001b[0m\u001b[1;32mNone\u001b[0m\u001b[1;33m)\u001b[0m\u001b[1;33m\u001b[0m\u001b[1;33m\u001b[0m\u001b[0m\n\u001b[0m\u001b[0;32m      6\u001b[0m \u001b[1;33m\u001b[0m\u001b[0m\n\u001b[0;32m      7\u001b[0m \u001b[1;32mfor\u001b[0m \u001b[0mi\u001b[0m \u001b[1;32min\u001b[0m \u001b[0mtext_list\u001b[0m\u001b[1;33m:\u001b[0m\u001b[1;33m\u001b[0m\u001b[1;33m\u001b[0m\u001b[0m\n",
      "\u001b[1;31mNameError\u001b[0m: name 'model' is not defined"
     ]
    }
   ],
   "source": [
    "label_list=[]\n",
    "\n",
    "text_list = big_frame['text'].tolist()\n",
    "\n",
    "pipe = TextClassificationPipeline(model=model, tokenizer=tokenizer, top_k=None)\n",
    "\n",
    "for i in text_list:\n",
    "    res=pipe(i)\n",
    "    flat_list = [item for sublist in res for item in sublist]\n",
    "    result = {}\n",
    "    for j in flat_list:\n",
    "        result.update(dict([tuple(j.values())]))\n",
    "\n",
    "    label_list.append(max(result, key=result.get))"
   ]
  },
  {
   "cell_type": "code",
   "execution_count": 84,
   "metadata": {},
   "outputs": [
    {
     "data": {
      "text/html": [
       "<div>\n",
       "<style scoped>\n",
       "    .dataframe tbody tr th:only-of-type {\n",
       "        vertical-align: middle;\n",
       "    }\n",
       "\n",
       "    .dataframe tbody tr th {\n",
       "        vertical-align: top;\n",
       "    }\n",
       "\n",
       "    .dataframe thead th {\n",
       "        text-align: right;\n",
       "    }\n",
       "</style>\n",
       "<table border=\"1\" class=\"dataframe\">\n",
       "  <thead>\n",
       "    <tr style=\"text-align: right;\">\n",
       "      <th></th>\n",
       "      <th>index</th>\n",
       "      <th>text</th>\n",
       "      <th>pred_label</th>\n",
       "      <th>Type</th>\n",
       "    </tr>\n",
       "  </thead>\n",
       "  <tbody>\n",
       "    <tr>\n",
       "      <th>0</th>\n",
       "      <td>Claim</td>\n",
       "      <td>As a central airport Berlin Tegel is particula...</td>\n",
       "      <td>Fact</td>\n",
       "      <td>Claim</td>\n",
       "    </tr>\n",
       "    <tr>\n",
       "      <th>1</th>\n",
       "      <td>Premise</td>\n",
       "      <td>It is an asset for the economy .</td>\n",
       "      <td>Fact</td>\n",
       "      <td>Premise</td>\n",
       "    </tr>\n",
       "    <tr>\n",
       "      <th>2</th>\n",
       "      <td>Premise</td>\n",
       "      <td>The negative impact of air traffic however is ...</td>\n",
       "      <td>Fact</td>\n",
       "      <td>Premise</td>\n",
       "    </tr>\n",
       "    <tr>\n",
       "      <th>3</th>\n",
       "      <td>Premise</td>\n",
       "      <td>Air traffic is extremely environmentally unfri...</td>\n",
       "      <td>Fact</td>\n",
       "      <td>Premise</td>\n",
       "    </tr>\n",
       "    <tr>\n",
       "      <th>4</th>\n",
       "      <td>Premise</td>\n",
       "      <td>Particularly in Tegel , the residents have bee...</td>\n",
       "      <td>Fact</td>\n",
       "      <td>Premise</td>\n",
       "    </tr>\n",
       "    <tr>\n",
       "      <th>...</th>\n",
       "      <td>...</td>\n",
       "      <td>...</td>\n",
       "      <td>...</td>\n",
       "      <td>...</td>\n",
       "    </tr>\n",
       "    <tr>\n",
       "      <th>571</th>\n",
       "      <td>Claim</td>\n",
       "      <td>Rent prices should be limited by a cap when th...</td>\n",
       "      <td>Policy</td>\n",
       "      <td>Claim</td>\n",
       "    </tr>\n",
       "    <tr>\n",
       "      <th>572</th>\n",
       "      <td>Premise</td>\n",
       "      <td>Landlords may want to earn as much as possible ,</td>\n",
       "      <td>Policy</td>\n",
       "      <td>Premise</td>\n",
       "    </tr>\n",
       "    <tr>\n",
       "      <th>573</th>\n",
       "      <td>Premise</td>\n",
       "      <td>and many , consistent with market principles ,...</td>\n",
       "      <td>Fact</td>\n",
       "      <td>Premise</td>\n",
       "    </tr>\n",
       "    <tr>\n",
       "      <th>574</th>\n",
       "      <td>Premise</td>\n",
       "      <td>but that people with the same income suddenly ...</td>\n",
       "      <td>Fact</td>\n",
       "      <td>Premise</td>\n",
       "    </tr>\n",
       "    <tr>\n",
       "      <th>575</th>\n",
       "      <td>Premise</td>\n",
       "      <td>Gentrification destroys entire districts and t...</td>\n",
       "      <td>Fact</td>\n",
       "      <td>Premise</td>\n",
       "    </tr>\n",
       "  </tbody>\n",
       "</table>\n",
       "<p>576 rows × 4 columns</p>\n",
       "</div>"
      ],
      "text/plain": [
       "       index                                               text pred_label  \\\n",
       "0      Claim  As a central airport Berlin Tegel is particula...       Fact   \n",
       "1    Premise                   It is an asset for the economy .       Fact   \n",
       "2    Premise  The negative impact of air traffic however is ...       Fact   \n",
       "3    Premise  Air traffic is extremely environmentally unfri...       Fact   \n",
       "4    Premise  Particularly in Tegel , the residents have bee...       Fact   \n",
       "..       ...                                                ...        ...   \n",
       "571    Claim  Rent prices should be limited by a cap when th...     Policy   \n",
       "572  Premise   Landlords may want to earn as much as possible ,     Policy   \n",
       "573  Premise  and many , consistent with market principles ,...       Fact   \n",
       "574  Premise  but that people with the same income suddenly ...       Fact   \n",
       "575  Premise  Gentrification destroys entire districts and t...       Fact   \n",
       "\n",
       "        Type  \n",
       "0      Claim  \n",
       "1    Premise  \n",
       "2    Premise  \n",
       "3    Premise  \n",
       "4    Premise  \n",
       "..       ...  \n",
       "571    Claim  \n",
       "572  Premise  \n",
       "573  Premise  \n",
       "574  Premise  \n",
       "575  Premise  \n",
       "\n",
       "[576 rows x 4 columns]"
      ]
     },
     "execution_count": 84,
     "metadata": {},
     "output_type": "execute_result"
    }
   ],
   "source": [
    "big_frame[\"pred_label\"]=label_list\n",
    "big_frame[\"pred_label\"].replace(\"LABEL_0\",\"Value\",inplace=True)\n",
    "big_frame[\"pred_label\"].replace(\"LABEL_1\",\"Fact\",inplace=True)\n",
    "big_frame[\"pred_label\"].replace(\"LABEL_2\",\"Policy\",inplace=True)\n",
    "\n",
    "big_frame[\"Type\"] = big_frame.index\n",
    "big_frame=big_frame.reset_index()\n",
    "big_frame"
   ]
  },
  {
   "cell_type": "code",
   "execution_count": 79,
   "metadata": {},
   "outputs": [
    {
     "data": {
      "text/plain": [
       "Fact      484\n",
       "Policy     53\n",
       "Value      39\n",
       "Name: pred_label, dtype: int64"
      ]
     },
     "execution_count": 79,
     "metadata": {},
     "output_type": "execute_result"
    }
   ],
   "source": [
    "big_frame[\"pred_label\"].value_counts()"
   ]
  },
  {
   "cell_type": "code",
   "execution_count": 94,
   "metadata": {},
   "outputs": [
    {
     "data": {
      "text/plain": [
       "Fact      73\n",
       "Policy    28\n",
       "Value     11\n",
       "Name: pred_label, dtype: int64"
      ]
     },
     "execution_count": 94,
     "metadata": {},
     "output_type": "execute_result"
    }
   ],
   "source": [
    "claim_frame=big_frame.loc[big_frame[\"Type\"]==\"Claim\"]\n",
    "claim_frame[\"pred_label\"].value_counts()\n",
    "\n"
   ]
  }
 ],
 "metadata": {
  "kernelspec": {
   "display_name": "Python 3.8.3",
   "language": "python",
   "name": "python3"
  },
  "language_info": {
   "codemirror_mode": {
    "name": "ipython",
    "version": 3
   },
   "file_extension": ".py",
   "mimetype": "text/x-python",
   "name": "python",
   "nbconvert_exporter": "python",
   "pygments_lexer": "ipython3",
   "version": "3.8.3"
  },
  "vscode": {
   "interpreter": {
    "hash": "0acc6f63e5576177c66e256d998b6d3964615254c3e54055c5c863c51bc5dfdf"
   }
  }
 },
 "nbformat": 4,
 "nbformat_minor": 4
}
