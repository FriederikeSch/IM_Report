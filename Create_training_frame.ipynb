{
 "cells": [
  {
   "cell_type": "markdown",
   "metadata": {},
   "source": [
    "Make a Dataframe containing only claims and their claim types (Fact, Value, or Policy) to feed in to a model for claim type prediction.\n"
   ]
  },
  {
   "cell_type": "code",
   "execution_count": 9,
   "metadata": {},
   "outputs": [],
   "source": [
    "import pickle\n",
    "import pandas as pd"
   ]
  },
  {
   "cell_type": "code",
   "execution_count": 10,
   "metadata": {},
   "outputs": [],
   "source": [
    "att_frame_list = pickle.load( open( \"pickles/att_frame_list.p\", \"rb\" ) )\n",
    "ent_frame_list = pickle.load( open( \"pickles/ent_frame_list.p\", \"rb\" ) )\n",
    "rel_frame_list = pickle.load( open( \"pickles/rel_frame_list.p\", \"rb\" ) )"
   ]
  },
  {
   "cell_type": "code",
   "execution_count": 11,
   "metadata": {},
   "outputs": [],
   "source": [
    "#clean up text \n",
    "ent_frame_list[0]\n",
    "for frame in ent_frame_list:\n",
    "    for i in range(len(frame)):\n",
    "        frame.iloc[i,0]= frame.iloc[i,0].replace(\"text=\",\"\")\n",
    "        frame.iloc[i,0]= frame.iloc[i,0].replace(')','')\n",
    "        frame.iloc[i,0]= frame.iloc[i,0].replace('\\'','')\n",
    "    "
   ]
  },
  {
   "cell_type": "code",
   "execution_count": 12,
   "metadata": {},
   "outputs": [
    {
     "data": {
      "text/html": [
       "<div>\n",
       "<style scoped>\n",
       "    .dataframe tbody tr th:only-of-type {\n",
       "        vertical-align: middle;\n",
       "    }\n",
       "\n",
       "    .dataframe tbody tr th {\n",
       "        vertical-align: top;\n",
       "    }\n",
       "\n",
       "    .dataframe thead th {\n",
       "        text-align: right;\n",
       "    }\n",
       "</style>\n",
       "<table border=\"1\" class=\"dataframe\">\n",
       "  <thead>\n",
       "    <tr style=\"text-align: right;\">\n",
       "      <th></th>\n",
       "      <th>ID</th>\n",
       "      <th>Type</th>\n",
       "      <th>Targets</th>\n",
       "      <th>Values</th>\n",
       "    </tr>\n",
       "  </thead>\n",
       "  <tbody>\n",
       "    <tr>\n",
       "      <th>0</th>\n",
       "      <td>A1</td>\n",
       "      <td>Stance</td>\n",
       "      <td>T3</td>\n",
       "      <td>For</td>\n",
       "    </tr>\n",
       "    <tr>\n",
       "      <th>1</th>\n",
       "      <td>A2</td>\n",
       "      <td>Stance</td>\n",
       "      <td>T7</td>\n",
       "      <td>Against</td>\n",
       "    </tr>\n",
       "    <tr>\n",
       "      <th>2</th>\n",
       "      <td>A3</td>\n",
       "      <td>Stance</td>\n",
       "      <td>T11</td>\n",
       "      <td>For</td>\n",
       "    </tr>\n",
       "    <tr>\n",
       "      <th>3</th>\n",
       "      <td>A4</td>\n",
       "      <td>PremiseType</td>\n",
       "      <td>T10</td>\n",
       "      <td>invented_instance</td>\n",
       "    </tr>\n",
       "    <tr>\n",
       "      <th>4</th>\n",
       "      <td>A5</td>\n",
       "      <td>Eloquence</td>\n",
       "      <td>T11</td>\n",
       "      <td>1</td>\n",
       "    </tr>\n",
       "    <tr>\n",
       "      <th>...</th>\n",
       "      <td>...</td>\n",
       "      <td>...</td>\n",
       "      <td>...</td>\n",
       "      <td>...</td>\n",
       "    </tr>\n",
       "    <tr>\n",
       "      <th>85</th>\n",
       "      <td>A88</td>\n",
       "      <td>Logos</td>\n",
       "      <td>T4</td>\n",
       "      <td>no</td>\n",
       "    </tr>\n",
       "    <tr>\n",
       "      <th>86</th>\n",
       "      <td>A89</td>\n",
       "      <td>ClaimType</td>\n",
       "      <td>T4</td>\n",
       "      <td>Value</td>\n",
       "    </tr>\n",
       "    <tr>\n",
       "      <th>87</th>\n",
       "      <td>A90</td>\n",
       "      <td>Ethos</td>\n",
       "      <td>T4</td>\n",
       "      <td>no</td>\n",
       "    </tr>\n",
       "    <tr>\n",
       "      <th>88</th>\n",
       "      <td>A91</td>\n",
       "      <td>Pathos</td>\n",
       "      <td>T4</td>\n",
       "      <td>no</td>\n",
       "    </tr>\n",
       "    <tr>\n",
       "      <th>89</th>\n",
       "      <td>A9</td>\n",
       "      <td>Specificity</td>\n",
       "      <td>T4</td>\n",
       "      <td>2</td>\n",
       "    </tr>\n",
       "  </tbody>\n",
       "</table>\n",
       "<p>90 rows × 4 columns</p>\n",
       "</div>"
      ],
      "text/plain": [
       "     ID         Type Targets             Values\n",
       "0    A1       Stance      T3                For\n",
       "1    A2       Stance      T7            Against\n",
       "2    A3       Stance     T11                For\n",
       "3    A4  PremiseType     T10  invented_instance\n",
       "4    A5    Eloquence     T11                  1\n",
       "..  ...          ...     ...                ...\n",
       "85  A88        Logos      T4                 no\n",
       "86  A89    ClaimType      T4              Value\n",
       "87  A90        Ethos      T4                 no\n",
       "88  A91       Pathos      T4                 no\n",
       "89   A9  Specificity      T4                  2\n",
       "\n",
       "[90 rows x 4 columns]"
      ]
     },
     "execution_count": 12,
     "metadata": {},
     "output_type": "execute_result"
    }
   ],
   "source": [
    "att_frame_list[0]"
   ]
  },
  {
   "cell_type": "code",
   "execution_count": 13,
   "metadata": {},
   "outputs": [],
   "source": [
    "def make_claim_frame(att_frame_list,ent_frame_list,binary=False,even_distribution=True):\n",
    "    \"\"\"\n",
    "    The function creates a dataframe cointaining all claims and their types of all texts in the corpus\n",
    "\n",
    "    :att_frame_list: list containing dataframes with the attributes for each text in the corpus\n",
    "    :ent_frame_list: list containing dataframes with the text for each text in the corpus\n",
    "    :binary: if the returned dataframe should contain only a binary distribution between Fact or not Fact\n",
    "    :even_distribution: if the class distribution should be even if True the number of examples choosen \n",
    "                        is capped by the smallest class\n",
    "    :return: dataframe containing claims, their type and the corresponding text\n",
    "    \"\"\" \n",
    "    #make a combined frame with Targets,Text and ClaimType\n",
    "    hold_list=[]\n",
    "    for i,j in zip(att_frame_list,ent_frame_list):\n",
    "        \n",
    "        #merge on Targets\n",
    "        hold=pd.merge(i,j,on=\"Targets\")\n",
    "\n",
    "        hold=hold.drop([\"Type_y\"], axis=1)\n",
    "        \n",
    "        #for training numeric values are needed\n",
    "        hold[\"Values\"].replace(\"Value\",0,inplace=True)\n",
    "        hold[\"Values\"].replace(\"Fact\",1,inplace=True)\n",
    "        hold[\"Values\"].replace(\"Policy\",2,inplace=True)\n",
    "        \n",
    "        \n",
    "        #training happens only over the claim type\n",
    "        hold_list.append(hold.loc[hold[\"Type_x\"]==\"ClaimType\"])\n",
    "        \n",
    "    \n",
    "    claim_type_frame=pd.concat(hold_list,ignore_index=True)\n",
    "\n",
    "    #pack Policy and Value into one category \n",
    "    if binary==True:\n",
    "        claim_type_frame[\"Values\"].replace(2,0,inplace=True)\n",
    "    \n",
    "    #even out the class distribution by reducing to classsize to the class with the fewest members\n",
    "    if even_distribution==True:\n",
    "        #count examples pro class\n",
    "        val=claim_type_frame[\"Values\"].value_counts()\n",
    "        hold=[]\n",
    "        #for each unique value take that many examples from the dataframe and shuffle\n",
    "        for i in range(claim_type_frame[\"Values\"].nunique()):\n",
    "            h=claim_type_frame.loc[claim_type_frame[\"Values\"]==i]\n",
    "            h=h.sample(frac=1)\n",
    "            hold.append(h.iloc[0:val.min(),:])\n",
    "        claim_type_frame=pd.concat(hold)\n",
    "        claim_type_frame=claim_type_frame.sample(frac=1)\n",
    "\n",
    "    return claim_type_frame"
   ]
  },
  {
   "cell_type": "code",
   "execution_count": 16,
   "metadata": {},
   "outputs": [
    {
     "data": {
      "text/plain": [
       "1    368\n",
       "0    145\n",
       "2     54\n",
       "Name: Values, dtype: int64"
      ]
     },
     "execution_count": 16,
     "metadata": {},
     "output_type": "execute_result"
    }
   ],
   "source": [
    "claim_type_frame=make_claim_frame(att_frame_list,ent_frame_list,binary=False,even_distribution=False)\n",
    "\n"
   ]
  },
  {
   "cell_type": "code",
   "execution_count": 17,
   "metadata": {},
   "outputs": [],
   "source": [
    "#optional: pickle the dataframe\n",
    "pickle.dump(claim_type_frame, open( \"claim_type_frame_bf_ef.p\", \"wb\" ) )"
   ]
  }
 ],
 "metadata": {
  "kernelspec": {
   "display_name": "Python 3.8.3",
   "language": "python",
   "name": "python3"
  },
  "language_info": {
   "codemirror_mode": {
    "name": "ipython",
    "version": 3
   },
   "file_extension": ".py",
   "mimetype": "text/x-python",
   "name": "python",
   "nbconvert_exporter": "python",
   "pygments_lexer": "ipython3",
   "version": "3.8.3"
  },
  "orig_nbformat": 4,
  "vscode": {
   "interpreter": {
    "hash": "0acc6f63e5576177c66e256d998b6d3964615254c3e54055c5c863c51bc5dfdf"
   }
  }
 },
 "nbformat": 4,
 "nbformat_minor": 2
}
